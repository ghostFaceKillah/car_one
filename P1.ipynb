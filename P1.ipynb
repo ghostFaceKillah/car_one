{
 "cells": [
  {
   "cell_type": "markdown",
   "metadata": {},
   "source": [
    "# **Finding Lane Lines on the Road** \n",
    "***\n",
    "In this project, you will use the tools you learned about in the lesson to identify lane lines on the road.  You can develop your pipeline on a series of individual images, and later apply the result to a video stream (really just a series of images). Check out the video clip \"raw-lines-example.mp4\" (also contained in this repository) to see what the output should look like after using the helper functions below. \n",
    "\n",
    "Once you have a result that looks roughly like \"raw-lines-example.mp4\", you'll need to get creative and try to average and/or extrapolate the line segments you've detected to map out the full extent of the lane lines.  You can see an example of the result you're going for in the video \"P1_example.mp4\".  Ultimately, you would like to draw just one line for the left side of the lane, and one for the right.\n",
    "\n",
    "---\n",
    "Let's have a look at our first image called 'test_images/solidWhiteRight.jpg'.  Run the 2 cells below (hit Shift-Enter or the \"play\" button above) to display the image.\n",
    "\n",
    "**Note** If, at any point, you encounter frozen display windows or other confounding issues, you can always start again with a clean slate by going to the \"Kernel\" menu above and selecting \"Restart & Clear Output\".\n",
    "\n",
    "---"
   ]
  },
  {
   "cell_type": "markdown",
   "metadata": {},
   "source": [
    "**The tools you have are color selection, region of interest selection, grayscaling, Gaussian smoothing, Canny Edge Detection and Hough Tranform line detection.  You  are also free to explore and try other techniques that were not presented in the lesson.  Your goal is piece together a pipeline to detect the line segments in the image, then average/extrapolate them and draw them onto the image for display (as below).  Once you have a working pipeline, try it out on the video stream below.**\n",
    "\n",
    "---\n",
    "\n",
    "<figure>\n",
    " <img src=\"line-segments-example.jpg\" width=\"380\" alt=\"Combined Image\" />\n",
    " <figcaption>\n",
    " <p></p> \n",
    " <p style=\"text-align: center;\"> Your output should look something like this (above) after detecting line segments using the helper functions below </p> \n",
    " </figcaption>\n",
    "</figure>\n",
    " <p></p> \n",
    "<figure>\n",
    " <img src=\"laneLines_thirdPass.jpg\" width=\"380\" alt=\"Combined Image\" />\n",
    " <figcaption>\n",
    " <p></p> \n",
    " <p style=\"text-align: center;\"> Your goal is to connect/average/extrapolate line segments to get output like this</p> \n",
    " </figcaption>\n",
    "</figure>"
   ]
  },
  {
   "cell_type": "code",
   "execution_count": 6,
   "metadata": {
    "collapsed": false
   },
   "outputs": [],
   "source": [
    "#importing some useful packages\n",
    "import matplotlib.pyplot as plt\n",
    "import matplotlib.image as mpimg\n",
    "import numpy as np\n",
    "import cv2\n",
    "%matplotlib inline"
   ]
  },
  {
   "cell_type": "code",
   "execution_count": null,
   "metadata": {
    "collapsed": false
   },
   "outputs": [],
   "source": [
    "#reading in an image\n",
    "image = mpimg.imread('test_images/solidWhiteRight.jpg')\n",
    "#printing out some stats and plotting\n",
    "print('This image is:', type(image), 'with dimesions:', image.shape)\n",
    "plt.imshow(image)  #call as plt.imshow(gray, cmap='gray') to show a grayscaled image"
   ]
  },
  {
   "cell_type": "markdown",
   "metadata": {},
   "source": [
    "**Some OpenCV functions (beyond those introduced in the lesson) that might be useful for this project are:**\n",
    "\n",
    "`cv2.inRange()` for color selection  \n",
    "`cv2.fillPoly()` for regions selection  \n",
    "`cv2.line()` to draw lines on an image given endpoints  \n",
    "`cv2.addWeighted()` to coadd / overlay two images\n",
    "`cv2.cvtColor()` to grayscale or change color\n",
    "`cv2.imwrite()` to output images to file  \n",
    "`cv2.bitwise_and()` to apply a mask to an image\n",
    "\n",
    "**Check out the OpenCV documentation to learn about these and discover even more awesome functionality!**"
   ]
  },
  {
   "cell_type": "markdown",
   "metadata": {},
   "source": [
    "Below are some helper functions to help get you started. They should look familiar from the lesson!"
   ]
  },
  {
   "cell_type": "code",
   "execution_count": 7,
   "metadata": {
    "collapsed": true
   },
   "outputs": [],
   "source": [
    "import math\n",
    "\n",
    "def grayscale(img):\n",
    "    \"\"\"Applies the Grayscale transform\n",
    "    This will return an image with only one color channel\n",
    "    but NOTE: to see the returned image as grayscale\n",
    "    you should call plt.imshow(gray, cmap='gray')\"\"\"\n",
    "    return cv2.cvtColor(img, cv2.COLOR_RGB2GRAY)\n",
    "    # Or use BGR2GRAY if you read an image with cv2.imread()\n",
    "    # return cv2.cvtColor(img, cv2.COLOR_BGR2GRAY)\n",
    "    \n",
    "def canny(img, low_threshold, high_threshold):\n",
    "    \"\"\"Applies the Canny transform\"\"\"\n",
    "    return cv2.Canny(img, low_threshold, high_threshold)\n",
    "\n",
    "def gaussian_blur(img, kernel_size):\n",
    "    \"\"\"Applies a Gaussian Noise kernel\"\"\"\n",
    "    return cv2.GaussianBlur(img, (kernel_size, kernel_size), 0)\n",
    "\n",
    "def region_of_interest(img, vertices):\n",
    "    \"\"\"\n",
    "    Applies an image mask.\n",
    "    \n",
    "    Only keeps the region of the image defined by the polygon\n",
    "    formed from `vertices`. The rest of the image is set to black.\n",
    "    \"\"\"\n",
    "    #defining a blank mask to start with\n",
    "    mask = np.zeros_like(img)   \n",
    "    \n",
    "    #defining a 3 channel or 1 channel color to fill the mask with depending on the input image\n",
    "    if len(img.shape) > 2:\n",
    "        channel_count = img.shape[2]  # i.e. 3 or 4 depending on your image\n",
    "        ignore_mask_color = (255,) * channel_count\n",
    "    else:\n",
    "        ignore_mask_color = 255\n",
    "        \n",
    "    #filling pixels inside the polygon defined by \"vertices\" with the fill color    \n",
    "    cv2.fillPoly(mask, vertices, ignore_mask_color)\n",
    "    \n",
    "    #returning the image only where mask pixels are nonzero\n",
    "    masked_image = cv2.bitwise_and(img, mask)\n",
    "    return masked_image\n",
    "\n",
    "\n",
    "def draw_lines(img, lines, color=[255, 0, 0], thickness=2):\n",
    "    \"\"\"\n",
    "    NOTE: this is the function you might want to use as a starting point once you want to \n",
    "    average/extrapolate the line segments you detect to map out the full\n",
    "    extent of the lane (going from the result shown in raw-lines-example.mp4\n",
    "    to that shown in P1_example.mp4).  \n",
    "    \n",
    "    Think about things like separating line segments by their \n",
    "    slope ((y2-y1)/(x2-x1)) to decide which segments are part of the left\n",
    "    line vs. the right line.  Then, you can average the position of each of \n",
    "    the lines and extrapolate to the top and bottom of the lane.\n",
    "    \n",
    "    This function draws `lines` with `color` and `thickness`.    \n",
    "    Lines are drawn on the image inplace (mutates the image).\n",
    "    If you want to make the lines semi-transparent, think about combining\n",
    "    this function with the weighted_img() function below\n",
    "    \"\"\"\n",
    "    for line in lines:\n",
    "        for x1,y1,x2,y2 in line:\n",
    "            cv2.line(img, (x1, y1), (x2, y2), color, thickness)\n",
    "\n",
    "def hough_lines(img, rho, theta, threshold, min_line_len, max_line_gap):\n",
    "    \"\"\"\n",
    "    `img` should be the output of a Canny transform.\n",
    "        \n",
    "    Returns an image with hough lines drawn.\n",
    "    \"\"\"\n",
    "    lines = cv2.HoughLinesP(img, rho, theta, threshold, np.array([]), minLineLength=min_line_len, maxLineGap=max_line_gap)\n",
    "    line_img = np.zeros((img.shape[0], img.shape[1], 3), dtype=np.uint8)\n",
    "    draw_lines(line_img, lines)\n",
    "    return line_img\n",
    "\n",
    "# Python 3 has support for cool math symbols.\n",
    "\n",
    "def weighted_img(img, initial_img, α=0.8, β=1., λ=0.):\n",
    "    \"\"\"\n",
    "    `img` is the output of the hough_lines(), An image with lines drawn on it.\n",
    "    Should be a blank image (all black) with lines drawn on it.\n",
    "    \n",
    "    `initial_img` should be the image before any processing.\n",
    "    \n",
    "    The result image is computed as follows:\n",
    "    \n",
    "    initial_img * α + img * β + λ\n",
    "    NOTE: initial_img and img must be the same shape!\n",
    "    \"\"\"\n",
    "    return cv2.addWeighted(initial_img, α, img, β, λ)"
   ]
  },
  {
   "cell_type": "markdown",
   "metadata": {},
   "source": [
    "## Test on Images\n",
    "\n",
    "Now you should build your pipeline to work on the images in the directory \"test_images\"  \n",
    "**You should make sure your pipeline works well on these images before you try the videos.**"
   ]
  },
  {
   "cell_type": "code",
   "execution_count": 3,
   "metadata": {
    "collapsed": false
   },
   "outputs": [
    {
     "name": "stdout",
     "output_type": "stream",
     "text": [
      "There are 6 files in this directory\n",
      "['solidWhiteCurve.jpg', 'solidWhiteRight.jpg', 'solidYellowCurve.jpg', 'solidYellowCurve2.jpg', 'solidYellowLeft.jpg', 'whiteCarLaneSwitch.jpg']\n"
     ]
    }
   ],
   "source": [
    "import os\n",
    "dir_list = os.listdir(\"test_images/\")\n",
    "print(\"There are {} files in this directory\".format(len(dir_list)))\n",
    "print(dir_list)"
   ]
  },
  {
   "cell_type": "markdown",
   "metadata": {},
   "source": [
    "run your solution on all test_images and make copies into the test_images directory)."
   ]
  },
  {
   "cell_type": "code",
   "execution_count": 100,
   "metadata": {
    "collapsed": false
   },
   "outputs": [
    {
     "name": "stdout",
     "output_type": "stream",
     "text": [
      "(720, 1280, 3)\n"
     ]
    }
   ],
   "source": [
    "print(image.shape)\n",
    "\n",
    "def upper_bound(image):\n",
    "    \"\"\"\n",
    "    Compute the upper bound of the trapezoid region that can \n",
    "    contain the road in proportion to the shape of the passed image.\n",
    "    \n",
    "    This way we can easily control 'how much road ahead' gets drawn.\n",
    "    \"\"\"\n",
    "    return np.int(0.61 * image.shape[0])\n",
    "    \n",
    "def center_region(image):\n",
    "    \"\"\"\n",
    "    Prepare coordinates of the central trapezoid region that will be \n",
    "    selected using the region_of_interest helper function.\n",
    "    \"\"\"\n",
    "    y, x = image.shape[:2]\n",
    "    return np.array([[\n",
    "        (np.int(0.57 * x), np.int(0.61 * y)), # upper right\n",
    "        (np.int(0.46 * x), np.int(0.61 * y)), # upper left\n",
    "        (np.int(0.1458 * x), y),              # lower left\n",
    "        (np.int(0.95 * x), y)                 # lower right\n",
    "    ]], dtype=np.int32)\n",
    "\n",
    "\n",
    "def left_region(image):\n",
    "    \"\"\"\n",
    "    Prepare coordinates of the left part of the trapezoid region\n",
    "    containing left part of the road. It will be used as one\n",
    "    of the inputs of the region_of_interest helper function.\n",
    "    \"\"\"\n",
    "    y, x = image.shape[:2]\n",
    "    return np.array([[\n",
    "        (x / 2, np.int(0.61 * y)),            # upper right\n",
    "        (np.int(0.46 * x), np.int(0.61 * y)), # upper left  \n",
    "        (np.int(0.1458 * x), y),              # lower left\n",
    "        (x / 2, y)                            # lower right\n",
    "    ]], dtype=np.int32)\n",
    "\n",
    "\n",
    "def right_region(image):\n",
    "    \"\"\"\n",
    "    Prepare coordinates of the left part of the trapezoid region\n",
    "    containing right part of the road. It will be used as one\n",
    "    of the inputs of the region_of_interest helper function.\n",
    "    \"\"\"\n",
    "    y, x = image.shape[:2]\n",
    "    return np.array([[\n",
    "        (np.int(0.57 * x), np.int(0.61 * y)), # upper right\n",
    "        (x / 2, np.int(0.61 * y)),            # upper left  \n",
    "        (x / 2, y),                           # lower left\n",
    "        (np.int(0.95 * x), y)                 # lower right\n",
    "    ]], dtype=np.int32)\n"
   ]
  },
  {
   "cell_type": "code",
   "execution_count": 162,
   "metadata": {
    "collapsed": false
   },
   "outputs": [
    {
     "name": "stdout",
     "output_type": "stream",
     "text": [
      "Saved test_images/solidWhiteCurve_processed.jpg\n",
      "Saved test_images/solidWhiteRight_processed.jpg\n",
      "Saved test_images/solidYellowCurve_processed.jpg\n",
      "Saved test_images/solidYellowCurve2_processed.jpg\n",
      "Saved test_images/solidYellowLeft_processed.jpg\n",
      "Saved test_images/whiteCarLaneSwitch_processed.jpg\n"
     ]
    }
   ],
   "source": [
    "# TODO: Build your pipeline that will draw lane lines on the test_images\n",
    "# then save them to the test_images directory.\n",
    "\n",
    "def get_white_coordinates(img):\n",
    "    \"\"\" Returns two numpy arrays with xs\n",
    "    and ys of white pixels in given image\"\"\"\n",
    "    assert len(img.shape) == 2, \"Only meant for 2d images\"\n",
    "    acc = [(x, y) for y in range(img.shape[0]) \n",
    "           for x in range(img.shape[1]) \n",
    "           if img[y, x] == 255]\n",
    "    xs = np.array([elem[0] for elem in acc])\n",
    "    ys = np.array([elem[1] for elem in acc])\n",
    "    return xs, ys\n",
    "\n",
    "\n",
    "def fit_polynomial_line_extension(img_crop, degree=1):\n",
    "    \"\"\" Based on input - image transformed by Canny edge \n",
    "    detection, fit a polynomial \"\"\"\n",
    "    # TODO(mike): Fix this comment\n",
    "    xs, ys = get_white_coordinates(img_crop)\n",
    "\n",
    "    fit_params = np.polyfit(ys, xs, degree)\n",
    "    fit_f = np.poly1d(fit_params)\n",
    "\n",
    "    # y_hat = np.arange(start=UPPER_BOUND, stop=img_gray.shape[0])\n",
    "    # x_hat = fit_f(y_hat)\n",
    "    # return x_hat, y_hat\n",
    "    return fit_f\n",
    "    \n",
    "\n",
    "def process_image(image, eps=10, gauss_ksize=15, canny_low=50, canny_high=150):\n",
    "    \"\"\"\n",
    "    \"\"\"\n",
    "    img_gray = grayscale(image)\n",
    "    img_gaussian_blur = gaussian_blur(img_gray, gauss_ksize)  \n",
    "    img_canny = canny(img_gaussian_blur, canny_low, canny_high)\n",
    "    \n",
    "    img_cropped = region_of_interest(img_canny, center_region(img_canny))\n",
    "    img_cropped_right = region_of_interest(img_canny, right_region(img_canny))\n",
    "    img_cropped_left = region_of_interest(img_canny, left_region(img_canny))\n",
    "    \n",
    "    mark_image = np.zeros_like(image)\n",
    "    \n",
    "    try:\n",
    "        lf = fit_polynomial_line_extension(img_cropped_left)\n",
    "        rf = fit_polynomial_line_extension(img_cropped_right)\n",
    "        \n",
    "        xx, yy = np.meshgrid(np.arange(image.shape[1]), np.arange(image.shape[0]))\n",
    "        r = eps ** 2\n",
    "    \n",
    "        left_selector = ((lf(yy) - xx) ** 2 <= r) & (yy > upper_bound(image))\n",
    "        right_selector = ((rf(yy) - xx) ** 2 <= r) & (yy > upper_bound(image))\n",
    "        mark_image[left_selector] = (255, 0, 0)\n",
    "        mark_image[right_selector] = (255, 0, 0)\n",
    "        \n",
    "    except TypeError:\n",
    "        print(\"Can't fit polynomial...\")\n",
    "    \n",
    "    return weighted_img(mark_image, image)\n",
    "    \n",
    "    \n",
    "for image_fname in dir_list:\n",
    "    image = mpimg.imread(os.path.join('test_images', image_fname)) \n",
    "    img_name_prefix, img_name_extension = image_fname.split('.')\n",
    "    processed_img_fname = os.path.join(\n",
    "        'test_images',\n",
    "        \"{}_{}.{}\".format(img_name_prefix, 'processed', img_name_extension)\n",
    "    )\n",
    "    processed_image = process_image(image)\n",
    "    plt.imsave(fname=processed_img_fname, arr=processed_image)\n",
    "    print(\"Saved {}\".format(processed_img_fname))\n",
    "    \n"
   ]
  },
  {
   "cell_type": "markdown",
   "metadata": {},
   "source": [
    "## Test on Videos\n",
    "\n",
    "You know what's cooler than drawing lanes over images? Drawing lanes over video!\n",
    "\n",
    "We can test our solution on two provided videos:\n",
    "\n",
    "`solidWhiteRight.mp4`\n",
    "\n",
    "`solidYellowLeft.mp4`"
   ]
  },
  {
   "cell_type": "code",
   "execution_count": 163,
   "metadata": {
    "collapsed": true
   },
   "outputs": [],
   "source": [
    "# Import everything needed to edit/save/watch video clips\n",
    "from moviepy.editor import VideoFileClip\n",
    "from IPython.display import HTML"
   ]
  },
  {
   "cell_type": "markdown",
   "metadata": {},
   "source": [
    "Let's try the one with the solid white lane on the right first ..."
   ]
  },
  {
   "cell_type": "code",
   "execution_count": 159,
   "metadata": {
    "collapsed": false
   },
   "outputs": [
    {
     "name": "stderr",
     "output_type": "stream",
     "text": [
      "WARNING:py.warnings:/Users/misiu-dev/anaconda3/envs/slfdrv-env/lib/python3.5/site-packages/moviepy/audio/io/readers.py:123: VisibleDeprecationWarning: using a non-integer number instead of an integer will result in an error in the future\n",
      "  self.nchannels))\n",
      "\n"
     ]
    }
   ],
   "source": [
    "white_output = 'white.mp4'\n",
    "clip1 = VideoFileClip(\"solidWhiteRight.mp4\")\n",
    "white_clip = clip1.fl_image(process_image) #NOTE: this function expects color images!!\n",
    "%time white_clip.write_videofile(white_output, audio=False)"
   ]
  },
  {
   "cell_type": "markdown",
   "metadata": {},
   "source": [
    "Play the video inline, or if you prefer find the video in your filesystem (should be in the same directory) and play it in your video player of choice."
   ]
  },
  {
   "cell_type": "code",
   "execution_count": 160,
   "metadata": {
    "collapsed": false
   },
   "outputs": [
    {
     "data": {
      "text/html": [
       "\n",
       "<video width=\"960\" height=\"540\" controls>\n",
       "  <source src=\"white.mp4\">\n",
       "</video>\n"
      ],
      "text/plain": [
       "<IPython.core.display.HTML object>"
      ]
     },
     "execution_count": 160,
     "metadata": {},
     "output_type": "execute_result"
    }
   ],
   "source": [
    "HTML(\"\"\"\n",
    "<video width=\"960\" height=\"540\" controls>\n",
    "  <source src=\"{0}\">\n",
    "</video>\n",
    "\"\"\".format(white_output))"
   ]
  },
  {
   "cell_type": "markdown",
   "metadata": {},
   "source": [
    "**At this point, if you were successful you probably have the Hough line segments drawn onto the road, but what about identifying the full extent of the lane and marking it clearly as in the example video (P1_example.mp4)?  Think about defining a line to run the full length of the visible lane based on the line segments you identified with the Hough Transform.  Modify your draw_lines function accordingly and try re-running your pipeline.**"
   ]
  },
  {
   "cell_type": "markdown",
   "metadata": {},
   "source": [
    "Now for the one with the solid yellow lane on the left. This one's more tricky!"
   ]
  },
  {
   "cell_type": "code",
   "execution_count": 164,
   "metadata": {
    "collapsed": false
   },
   "outputs": [
    {
     "name": "stderr",
     "output_type": "stream",
     "text": [
      "WARNING:py.warnings:/Users/misiu-dev/anaconda3/envs/slfdrv-env/lib/python3.5/site-packages/moviepy/audio/io/readers.py:123: VisibleDeprecationWarning: using a non-integer number instead of an integer will result in an error in the future\n",
      "  self.nchannels))\n",
      "\n"
     ]
    }
   ],
   "source": [
    "yellow_output = 'yellow.mp4'\n",
    "clip2 = VideoFileClip('solidYellowLeft.mp4')\n",
    "yellow_clip = clip2.fl_image(process_image)\n",
    "%time yellow_clip.write_videofile(yellow_output, audio=False)"
   ]
  },
  {
   "cell_type": "code",
   "execution_count": 165,
   "metadata": {
    "collapsed": false
   },
   "outputs": [
    {
     "data": {
      "text/html": [
       "\n",
       "<video width=\"960\" height=\"540\" controls>\n",
       "  <source src=\"yellow.mp4\">\n",
       "</video>\n"
      ],
      "text/plain": [
       "<IPython.core.display.HTML object>"
      ]
     },
     "execution_count": 165,
     "metadata": {},
     "output_type": "execute_result"
    }
   ],
   "source": [
    "HTML(\"\"\"\n",
    "<video width=\"960\" height=\"540\" controls>\n",
    "  <source src=\"{0}\">\n",
    "</video>\n",
    "\"\"\".format(yellow_output))"
   ]
  },
  {
   "cell_type": "markdown",
   "metadata": {},
   "source": [
    "## Reflections\n",
    "\n",
    "Congratulations on finding the lane lines!  As the final step in this project, we would like you to share your thoughts on your lane finding pipeline... specifically, how could you imagine making your algorithm better / more robust?  Where will your current algorithm be likely to fail?\n",
    "\n",
    "Please add your thoughts below,  and if you're up for making your pipeline more robust, be sure to scroll down and check out the optional challenge video below!\n",
    "\n",
    "My reflections are as follows:\n",
    "* based on the optional challange, I got to appreciate that it is tough to build an algorithm that is robust. Simple variations in the image: changes of brightness / contrast / color balance can easily break an algorhitm\n",
    "* a problem that we is perceptually simple for human (recognizing white stripes on black asphalt) can prove to be hard to code precisely using the standard tools (even the coming up with definition of white color is not a trivial task).\n",
    "* if the environment is relatively stable, we can levarage relatively simple tools to solve the task of finding the road lines on the tarmac. Unfortunately 'real life' is not a 'relatively stable environment'\n",
    "* I think the performance of the algorhitm can be improved significantly if we smooth the lines perceived over time, instead of treating the video as a series of images that are processed one by one.\n",
    "\n"
   ]
  },
  {
   "cell_type": "markdown",
   "metadata": {},
   "source": [
    "## Submission\n",
    "\n",
    "If you're satisfied with your video outputs it's time to submit!  Submit this ipython notebook for review.\n"
   ]
  },
  {
   "cell_type": "markdown",
   "metadata": {
    "collapsed": true
   },
   "source": [
    "## Optional Challenge\n",
    "\n",
    "Try your lane finding pipeline on the video below.  Does it still work?  Can you figure out a way to make it more robust?  If you're up for the challenge, modify your pipeline so it works with this video and submit it along with the rest of your project!"
   ]
  },
  {
   "cell_type": "code",
   "execution_count": 176,
   "metadata": {
    "collapsed": false
   },
   "outputs": [
    {
     "name": "stderr",
     "output_type": "stream",
     "text": [
      "WARNING:py.warnings:/Users/misiu-dev/anaconda3/envs/slfdrv-env/lib/python3.5/site-packages/moviepy/audio/io/readers.py:123: VisibleDeprecationWarning: using a non-integer number instead of an integer will result in an error in the future\n",
      "  self.nchannels))\n",
      "\n",
      "WARNING:py.warnings:/Users/misiu-dev/anaconda3/envs/slfdrv-env/lib/python3.5/site-packages/moviepy/video/io/ffmpeg_reader.py:116: UserWarning: Warning: in file challenge.mp4, 2764800 bytes wanted but 0 bytes read,at frame 251/251, at time 10.04/10.04 sec. Using the last valid frame instead.\n",
      "  UserWarning)\n",
      "\n"
     ]
    },
    {
     "name": "stdout",
     "output_type": "stream",
     "text": [
      "There are 25 files in this directory\n",
      "['img_0.png', 'img_1.png', 'img_10.png', 'img_11.png', 'img_12.png', 'img_13.png', 'img_14.png', 'img_15.png', 'img_16.png', 'img_17.png', 'img_18.png', 'img_19.png', 'img_2.png', 'img_20.png', 'img_21.png', 'img_22.png', 'img_23.png', 'img_24.png', 'img_3.png', 'img_4.png', 'img_5.png', 'img_6.png', 'img_7.png', 'img_8.png', 'img_9.png']\n"
     ]
    }
   ],
   "source": [
    "# extract samples from the harder clip\n",
    "vid_fname = 'challenge.mp4'\n",
    "clip = VideoFileClip(vid_fname)\n",
    "\n",
    "snap_times = np.linspace(start=0, stop=clip.duration, num=25)\n",
    "\n",
    "for idx, snap_t in enumerate(snap_times):\n",
    "    clip.to_ImageClip(snap_t).save_frame('challenge_snaps/img_{}.png'.format(idx))\n",
    "\n",
    "\n",
    "challenge_dir_list = os.listdir(\"challenge_snaps/\")\n",
    "print(\"There are {} files in this directory\".format(len(challenge_dir_list)))\n",
    "print(challenge_dir_list)\n"
   ]
  },
  {
   "cell_type": "code",
   "execution_count": null,
   "metadata": {
    "collapsed": false
   },
   "outputs": [
    {
     "name": "stderr",
     "output_type": "stream",
     "text": [
      "\n",
      "\r",
      "  0%|          | 0/14 [00:00<?, ?it/s]"
     ]
    },
    {
     "name": "stdout",
     "output_type": "stream",
     "text": [
      "Processing gauss = 1\n"
     ]
    },
    {
     "name": "stderr",
     "output_type": "stream",
     "text": [
      "\u001b[A\n",
      "Exception in thread Thread-16:\n",
      "Traceback (most recent call last):\n",
      "  File \"/Users/misiu-dev/anaconda3/envs/slfdrv-env/lib/python3.5/threading.py\", line 914, in _bootstrap_inner\n",
      "    self.run()\n",
      "  File \"/Users/misiu-dev/anaconda3/envs/slfdrv-env/lib/python3.5/site-packages/tqdm/_tqdm.py\", line 102, in run\n",
      "    for instance in self.tqdm_cls._instances:\n",
      "  File \"/Users/misiu-dev/anaconda3/envs/slfdrv-env/lib/python3.5/_weakrefset.py\", line 60, in __iter__\n",
      "    for itemref in self.data:\n",
      "RuntimeError: Set changed size during iteration\n",
      "\n",
      "  7%|▋         | 1/14 [01:03<13:48, 63.72s/it]"
     ]
    }
   ],
   "source": [
    "# Diagnose performance of the algo on the excerpts of the harder part of the task\n",
    "iidx = 11\n",
    "\n",
    "# 9, 10, 11, 12 are the real hard part\n",
    "raw_image = mpimg.imread(os.path.join('challenge_snaps', 'img_{}.png'.format(iidx)))\n",
    "image = np.uint8(255 * raw_image)\n",
    "# plt.imshow(process_image(image, gauss_ksize=9, canny_low=10, canny_high=125))\n",
    "\n",
    "def test_process(image, gauss, canny_low, canny_high, show=True, show_blur=False):\n",
    "    img_gray = grayscale(image)\n",
    "    img_gaussian_blur = gaussian_blur(img_gray, gauss)  # best param currently\n",
    "    img_canny = canny(img_gaussian_blur, canny_low, canny_high)\n",
    "    img_cropped = region_of_interest(img_canny, center_region(img_canny))\n",
    "    if show:\n",
    "        plt.imshow(img_cropped, cmap='gray')\n",
    "    if show_blur:\n",
    "        plt.imshow(img_gaussian_blur, cmap='gray')\n",
    "        \n",
    "    return img_cropped\n",
    "\n",
    "# test_process(image, 9, 10, 125, show=True, show_blur=False)\n",
    "\n",
    "# loop over canny params\n",
    "gauss_grid = [1, 3, 5, 7, 9, 11]\n",
    "canny_grid = [5, 10, 20, 40, 50, 75, 100, 125, 150, 200, 300, 400, 500, 600]\n",
    "\n",
    "def loop_over_params():\n",
    "    import tqdm \n",
    "    for gauss in gauss_grid:\n",
    "        print(\"Processing gauss = {}\".format(gauss))\n",
    "        for canny_low in tqdm.tqdm(canny_grid):\n",
    "            for canny_high in canny_grid:\n",
    "                if canny_low < canny_high:\n",
    "                    nimg = process_image(image, gauss_ksize=gauss, canny_low=canny_low, canny_high=canny_high)\n",
    "                    plt.imsave(\n",
    "                        fname=os.path.join(\n",
    "                            'canny_grid', 'canny_{}_{}_{}_{}.png'.format(iidx, gauss, canny_low, canny_high)\n",
    "                        ),\n",
    "                        arr=nimg, cmap='gray'\n",
    "                    )\n",
    "\n",
    "# loop_over_params()\n",
    "\n",
    "# best currently 1, 75, 400\n",
    "# also 1, 200, 400 also good\n",
    "# 3, 75, 300\n",
    "# 3, 100, 300\n",
    "# 3, 150, 300\n",
    "# 11, 75, 200\n",
    "# 5, 75, 150\n",
    "# 9, 50, 125\n",
    "# 9, 100, 125 \n",
    "# 11, 50, 100\n"
   ]
  },
  {
   "cell_type": "code",
   "execution_count": 204,
   "metadata": {
    "collapsed": false
   },
   "outputs": [
    {
     "name": "stderr",
     "output_type": "stream",
     "text": [
      "WARNING:py.warnings:/Users/misiu-dev/anaconda3/envs/slfdrv-env/lib/python3.5/site-packages/moviepy/audio/io/readers.py:123: VisibleDeprecationWarning: using a non-integer number instead of an integer will result in an error in the future\n",
      "  self.nchannels))\n",
      "\n"
     ]
    },
    {
     "name": "stdout",
     "output_type": "stream",
     "text": [
      "[MoviePy] >>>> Building video extra.mp4\n",
      "[MoviePy] Writing video extra.mp4\n"
     ]
    },
    {
     "name": "stderr",
     "output_type": "stream",
     "text": [
      " 45%|████▌     | 114/251 [06:22<06:06,  2.67s/it]"
     ]
    },
    {
     "name": "stdout",
     "output_type": "stream",
     "text": [
      "Can't fit polynomial...\n"
     ]
    },
    {
     "name": "stderr",
     "output_type": "stream",
     "text": [
      "\r",
      " 46%|████▌     | 115/251 [06:24<05:17,  2.33s/it]"
     ]
    },
    {
     "name": "stdout",
     "output_type": "stream",
     "text": [
      "Can't fit polynomial...\n"
     ]
    },
    {
     "name": "stderr",
     "output_type": "stream",
     "text": [
      "100%|██████████| 251/251 [1:23:55<00:00,  3.88s/it]\n"
     ]
    },
    {
     "name": "stdout",
     "output_type": "stream",
     "text": [
      "[MoviePy] Done.\n",
      "[MoviePy] >>>> Video ready: extra.mp4 \n",
      "\n",
      "CPU times: user 16min 7s, sys: 11.9 s, total: 16min 19s\n",
      "Wall time: 1h 23min 56s\n"
     ]
    }
   ],
   "source": [
    "challenge_output = 'extra.mp4'\n",
    "clip2 = VideoFileClip('challenge.mp4')\n",
    "challenge_clip = clip2.fl_image(lambda img: process_image(img, eps=8, gauss_ksize=3, canny_low=150, canny_high=300))\n",
    "%time challenge_clip.write_videofile(challenge_output, audio=False)"
   ]
  },
  {
   "cell_type": "code",
   "execution_count": 168,
   "metadata": {
    "collapsed": false
   },
   "outputs": [
    {
     "data": {
      "text/html": [
       "\n",
       "<video width=\"960\" height=\"540\" controls>\n",
       "  <source src=\"extra.mp4\">\n",
       "</video>\n"
      ],
      "text/plain": [
       "<IPython.core.display.HTML object>"
      ]
     },
     "execution_count": 168,
     "metadata": {},
     "output_type": "execute_result"
    }
   ],
   "source": [
    "HTML(\"\"\"\n",
    "<video width=\"960\" height=\"540\" controls>\n",
    "  <source src=\"{0}\">\n",
    "</video>\n",
    "\"\"\".format(challenge_output))"
   ]
  }
 ],
 "metadata": {
  "anaconda-cloud": {},
  "kernelspec": {
   "display_name": "Python [conda env:slfdrv-env]",
   "language": "python",
   "name": "conda-env-slfdrv-env-py"
  },
  "language_info": {
   "codemirror_mode": {
    "name": "ipython",
    "version": 3
   },
   "file_extension": ".py",
   "mimetype": "text/x-python",
   "name": "python",
   "nbconvert_exporter": "python",
   "pygments_lexer": "ipython3",
   "version": "3.5.2"
  }
 },
 "nbformat": 4,
 "nbformat_minor": 0
}
